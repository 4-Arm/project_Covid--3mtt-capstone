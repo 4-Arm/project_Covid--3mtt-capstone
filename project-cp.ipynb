{
 "cells": [
  {
   "cell_type": "markdown",
   "id": "52dd330d",
   "metadata": {
    "papermill": {
     "duration": 0.006276,
     "end_time": "2024-07-26T07:49:26.537688",
     "exception": false,
     "start_time": "2024-07-26T07:49:26.531412",
     "status": "completed"
    },
    "tags": []
   },
   "source": [
    "# **EDA Analysis on Covid 19**"
   ]
  },
  {
   "cell_type": "markdown",
   "id": "f5e6e311",
   "metadata": {
    "papermill": {
     "duration": 0.005535,
     "end_time": "2024-07-26T07:49:26.549237",
     "exception": false,
     "start_time": "2024-07-26T07:49:26.543702",
     "status": "completed"
    },
    "tags": []
   },
   "source": [
    "+**Importing all the required libraries**"
   ]
  },
  {
   "cell_type": "code",
   "execution_count": 1,
   "id": "6cabce46",
   "metadata": {
    "execution": {
     "iopub.execute_input": "2024-07-26T07:49:26.562763Z",
     "iopub.status.busy": "2024-07-26T07:49:26.562382Z",
     "iopub.status.idle": "2024-07-26T07:49:27.581557Z",
     "shell.execute_reply": "2024-07-26T07:49:27.580418Z"
    },
    "papermill": {
     "duration": 1.029268,
     "end_time": "2024-07-26T07:49:27.584348",
     "exception": false,
     "start_time": "2024-07-26T07:49:26.555080",
     "status": "completed"
    },
    "tags": []
   },
   "outputs": [],
   "source": [
    "import pandas as pd\n",
    "import numpy as np\n",
    "import matplotlib.pyplot as plt"
   ]
  },
  {
   "cell_type": "markdown",
   "id": "a5520163",
   "metadata": {
    "papermill": {
     "duration": 0.005384,
     "end_time": "2024-07-26T07:49:27.595717",
     "exception": false,
     "start_time": "2024-07-26T07:49:27.590333",
     "status": "completed"
    },
    "tags": []
   },
   "source": []
  },
  {
   "cell_type": "markdown",
   "id": "17ea0ee6",
   "metadata": {
    "papermill": {
     "duration": 0.005427,
     "end_time": "2024-07-26T07:49:27.606852",
     "exception": false,
     "start_time": "2024-07-26T07:49:27.601425",
     "status": "completed"
    },
    "tags": []
   },
   "source": [
    "**Importing the data from the kaggle data set**"
   ]
  },
  {
   "cell_type": "code",
   "execution_count": 2,
   "id": "a55f39c8",
   "metadata": {
    "execution": {
     "iopub.execute_input": "2024-07-26T07:49:27.620048Z",
     "iopub.status.busy": "2024-07-26T07:49:27.619461Z",
     "iopub.status.idle": "2024-07-26T07:49:27.677831Z",
     "shell.execute_reply": "2024-07-26T07:49:27.676629Z"
    },
    "papermill": {
     "duration": 0.068114,
     "end_time": "2024-07-26T07:49:27.680633",
     "exception": false,
     "start_time": "2024-07-26T07:49:27.612519",
     "status": "completed"
    },
    "tags": []
   },
   "outputs": [
    {
     "data": {
      "text/html": [
       "<div>\n",
       "<style scoped>\n",
       "    .dataframe tbody tr th:only-of-type {\n",
       "        vertical-align: middle;\n",
       "    }\n",
       "\n",
       "    .dataframe tbody tr th {\n",
       "        vertical-align: top;\n",
       "    }\n",
       "\n",
       "    .dataframe thead th {\n",
       "        text-align: right;\n",
       "    }\n",
       "</style>\n",
       "<table border=\"1\" class=\"dataframe\">\n",
       "  <thead>\n",
       "    <tr style=\"text-align: right;\">\n",
       "      <th></th>\n",
       "      <th>Country/Region</th>\n",
       "      <th>Confirmed</th>\n",
       "      <th>Deaths</th>\n",
       "      <th>Recovered</th>\n",
       "      <th>Active</th>\n",
       "      <th>New cases</th>\n",
       "      <th>New deaths</th>\n",
       "      <th>New recovered</th>\n",
       "      <th>Deaths / 100 Cases</th>\n",
       "      <th>Recovered / 100 Cases</th>\n",
       "      <th>Deaths / 100 Recovered</th>\n",
       "      <th>Confirmed last week</th>\n",
       "      <th>1 week change</th>\n",
       "      <th>1 week % increase</th>\n",
       "      <th>WHO Region</th>\n",
       "    </tr>\n",
       "  </thead>\n",
       "  <tbody>\n",
       "    <tr>\n",
       "      <th>0</th>\n",
       "      <td>Afghanistan</td>\n",
       "      <td>36263</td>\n",
       "      <td>1269</td>\n",
       "      <td>25198</td>\n",
       "      <td>9796</td>\n",
       "      <td>106</td>\n",
       "      <td>10</td>\n",
       "      <td>18</td>\n",
       "      <td>3.50</td>\n",
       "      <td>69.49</td>\n",
       "      <td>5.04</td>\n",
       "      <td>35526</td>\n",
       "      <td>737</td>\n",
       "      <td>2.07</td>\n",
       "      <td>Eastern Mediterranean</td>\n",
       "    </tr>\n",
       "    <tr>\n",
       "      <th>1</th>\n",
       "      <td>Albania</td>\n",
       "      <td>4880</td>\n",
       "      <td>144</td>\n",
       "      <td>2745</td>\n",
       "      <td>1991</td>\n",
       "      <td>117</td>\n",
       "      <td>6</td>\n",
       "      <td>63</td>\n",
       "      <td>2.95</td>\n",
       "      <td>56.25</td>\n",
       "      <td>5.25</td>\n",
       "      <td>4171</td>\n",
       "      <td>709</td>\n",
       "      <td>17.00</td>\n",
       "      <td>Europe</td>\n",
       "    </tr>\n",
       "    <tr>\n",
       "      <th>2</th>\n",
       "      <td>Algeria</td>\n",
       "      <td>27973</td>\n",
       "      <td>1163</td>\n",
       "      <td>18837</td>\n",
       "      <td>7973</td>\n",
       "      <td>616</td>\n",
       "      <td>8</td>\n",
       "      <td>749</td>\n",
       "      <td>4.16</td>\n",
       "      <td>67.34</td>\n",
       "      <td>6.17</td>\n",
       "      <td>23691</td>\n",
       "      <td>4282</td>\n",
       "      <td>18.07</td>\n",
       "      <td>Africa</td>\n",
       "    </tr>\n",
       "    <tr>\n",
       "      <th>3</th>\n",
       "      <td>Andorra</td>\n",
       "      <td>907</td>\n",
       "      <td>52</td>\n",
       "      <td>803</td>\n",
       "      <td>52</td>\n",
       "      <td>10</td>\n",
       "      <td>0</td>\n",
       "      <td>0</td>\n",
       "      <td>5.73</td>\n",
       "      <td>88.53</td>\n",
       "      <td>6.48</td>\n",
       "      <td>884</td>\n",
       "      <td>23</td>\n",
       "      <td>2.60</td>\n",
       "      <td>Europe</td>\n",
       "    </tr>\n",
       "    <tr>\n",
       "      <th>4</th>\n",
       "      <td>Angola</td>\n",
       "      <td>950</td>\n",
       "      <td>41</td>\n",
       "      <td>242</td>\n",
       "      <td>667</td>\n",
       "      <td>18</td>\n",
       "      <td>1</td>\n",
       "      <td>0</td>\n",
       "      <td>4.32</td>\n",
       "      <td>25.47</td>\n",
       "      <td>16.94</td>\n",
       "      <td>749</td>\n",
       "      <td>201</td>\n",
       "      <td>26.84</td>\n",
       "      <td>Africa</td>\n",
       "    </tr>\n",
       "    <tr>\n",
       "      <th>...</th>\n",
       "      <td>...</td>\n",
       "      <td>...</td>\n",
       "      <td>...</td>\n",
       "      <td>...</td>\n",
       "      <td>...</td>\n",
       "      <td>...</td>\n",
       "      <td>...</td>\n",
       "      <td>...</td>\n",
       "      <td>...</td>\n",
       "      <td>...</td>\n",
       "      <td>...</td>\n",
       "      <td>...</td>\n",
       "      <td>...</td>\n",
       "      <td>...</td>\n",
       "      <td>...</td>\n",
       "    </tr>\n",
       "    <tr>\n",
       "      <th>182</th>\n",
       "      <td>West Bank and Gaza</td>\n",
       "      <td>10621</td>\n",
       "      <td>78</td>\n",
       "      <td>3752</td>\n",
       "      <td>6791</td>\n",
       "      <td>152</td>\n",
       "      <td>2</td>\n",
       "      <td>0</td>\n",
       "      <td>0.73</td>\n",
       "      <td>35.33</td>\n",
       "      <td>2.08</td>\n",
       "      <td>8916</td>\n",
       "      <td>1705</td>\n",
       "      <td>19.12</td>\n",
       "      <td>Eastern Mediterranean</td>\n",
       "    </tr>\n",
       "    <tr>\n",
       "      <th>183</th>\n",
       "      <td>Western Sahara</td>\n",
       "      <td>10</td>\n",
       "      <td>1</td>\n",
       "      <td>8</td>\n",
       "      <td>1</td>\n",
       "      <td>0</td>\n",
       "      <td>0</td>\n",
       "      <td>0</td>\n",
       "      <td>10.00</td>\n",
       "      <td>80.00</td>\n",
       "      <td>12.50</td>\n",
       "      <td>10</td>\n",
       "      <td>0</td>\n",
       "      <td>0.00</td>\n",
       "      <td>Africa</td>\n",
       "    </tr>\n",
       "    <tr>\n",
       "      <th>184</th>\n",
       "      <td>Yemen</td>\n",
       "      <td>1691</td>\n",
       "      <td>483</td>\n",
       "      <td>833</td>\n",
       "      <td>375</td>\n",
       "      <td>10</td>\n",
       "      <td>4</td>\n",
       "      <td>36</td>\n",
       "      <td>28.56</td>\n",
       "      <td>49.26</td>\n",
       "      <td>57.98</td>\n",
       "      <td>1619</td>\n",
       "      <td>72</td>\n",
       "      <td>4.45</td>\n",
       "      <td>Eastern Mediterranean</td>\n",
       "    </tr>\n",
       "    <tr>\n",
       "      <th>185</th>\n",
       "      <td>Zambia</td>\n",
       "      <td>4552</td>\n",
       "      <td>140</td>\n",
       "      <td>2815</td>\n",
       "      <td>1597</td>\n",
       "      <td>71</td>\n",
       "      <td>1</td>\n",
       "      <td>465</td>\n",
       "      <td>3.08</td>\n",
       "      <td>61.84</td>\n",
       "      <td>4.97</td>\n",
       "      <td>3326</td>\n",
       "      <td>1226</td>\n",
       "      <td>36.86</td>\n",
       "      <td>Africa</td>\n",
       "    </tr>\n",
       "    <tr>\n",
       "      <th>186</th>\n",
       "      <td>Zimbabwe</td>\n",
       "      <td>2704</td>\n",
       "      <td>36</td>\n",
       "      <td>542</td>\n",
       "      <td>2126</td>\n",
       "      <td>192</td>\n",
       "      <td>2</td>\n",
       "      <td>24</td>\n",
       "      <td>1.33</td>\n",
       "      <td>20.04</td>\n",
       "      <td>6.64</td>\n",
       "      <td>1713</td>\n",
       "      <td>991</td>\n",
       "      <td>57.85</td>\n",
       "      <td>Africa</td>\n",
       "    </tr>\n",
       "  </tbody>\n",
       "</table>\n",
       "<p>187 rows × 15 columns</p>\n",
       "</div>"
      ],
      "text/plain": [
       "         Country/Region  Confirmed  Deaths  Recovered  Active  New cases  \\\n",
       "0           Afghanistan      36263    1269      25198    9796        106   \n",
       "1               Albania       4880     144       2745    1991        117   \n",
       "2               Algeria      27973    1163      18837    7973        616   \n",
       "3               Andorra        907      52        803      52         10   \n",
       "4                Angola        950      41        242     667         18   \n",
       "..                  ...        ...     ...        ...     ...        ...   \n",
       "182  West Bank and Gaza      10621      78       3752    6791        152   \n",
       "183      Western Sahara         10       1          8       1          0   \n",
       "184               Yemen       1691     483        833     375         10   \n",
       "185              Zambia       4552     140       2815    1597         71   \n",
       "186            Zimbabwe       2704      36        542    2126        192   \n",
       "\n",
       "     New deaths  New recovered  Deaths / 100 Cases  Recovered / 100 Cases  \\\n",
       "0            10             18                3.50                  69.49   \n",
       "1             6             63                2.95                  56.25   \n",
       "2             8            749                4.16                  67.34   \n",
       "3             0              0                5.73                  88.53   \n",
       "4             1              0                4.32                  25.47   \n",
       "..          ...            ...                 ...                    ...   \n",
       "182           2              0                0.73                  35.33   \n",
       "183           0              0               10.00                  80.00   \n",
       "184           4             36               28.56                  49.26   \n",
       "185           1            465                3.08                  61.84   \n",
       "186           2             24                1.33                  20.04   \n",
       "\n",
       "     Deaths / 100 Recovered  Confirmed last week  1 week change  \\\n",
       "0                      5.04                35526            737   \n",
       "1                      5.25                 4171            709   \n",
       "2                      6.17                23691           4282   \n",
       "3                      6.48                  884             23   \n",
       "4                     16.94                  749            201   \n",
       "..                      ...                  ...            ...   \n",
       "182                    2.08                 8916           1705   \n",
       "183                   12.50                   10              0   \n",
       "184                   57.98                 1619             72   \n",
       "185                    4.97                 3326           1226   \n",
       "186                    6.64                 1713            991   \n",
       "\n",
       "     1 week % increase             WHO Region  \n",
       "0                 2.07  Eastern Mediterranean  \n",
       "1                17.00                 Europe  \n",
       "2                18.07                 Africa  \n",
       "3                 2.60                 Europe  \n",
       "4                26.84                 Africa  \n",
       "..                 ...                    ...  \n",
       "182              19.12  Eastern Mediterranean  \n",
       "183               0.00                 Africa  \n",
       "184               4.45  Eastern Mediterranean  \n",
       "185              36.86                 Africa  \n",
       "186              57.85                 Africa  \n",
       "\n",
       "[187 rows x 15 columns]"
      ]
     },
     "execution_count": 2,
     "metadata": {},
     "output_type": "execute_result"
    }
   ],
   "source": [
    "data = pd.read_csv('country_wise_latest.csv')\n",
    "data"
   ]
  },
  {
   "cell_type": "markdown",
   "id": "a4c844c4",
   "metadata": {
    "papermill": {
     "duration": 0.006449,
     "end_time": "2024-07-26T07:49:27.693567",
     "exception": false,
     "start_time": "2024-07-26T07:49:27.687118",
     "status": "completed"
    },
    "tags": []
   },
   "source": [
    "# Data Cleaning"
   ]
  },
  {
   "cell_type": "code",
   "execution_count": 3,
   "id": "9aff02b3",
   "metadata": {
    "execution": {
     "iopub.execute_input": "2024-07-26T07:49:27.708743Z",
     "iopub.status.busy": "2024-07-26T07:49:27.707754Z",
     "iopub.status.idle": "2024-07-26T07:49:27.733994Z",
     "shell.execute_reply": "2024-07-26T07:49:27.732852Z"
    },
    "papermill": {
     "duration": 0.036399,
     "end_time": "2024-07-26T07:49:27.736611",
     "exception": false,
     "start_time": "2024-07-26T07:49:27.700212",
     "status": "completed"
    },
    "tags": []
   },
   "outputs": [
    {
     "name": "stdout",
     "output_type": "stream",
     "text": [
      "<class 'pandas.core.frame.DataFrame'>\n",
      "RangeIndex: 187 entries, 0 to 186\n",
      "Data columns (total 15 columns):\n",
      " #   Column                  Non-Null Count  Dtype  \n",
      "---  ------                  --------------  -----  \n",
      " 0   Country/Region          187 non-null    object \n",
      " 1   Confirmed               187 non-null    int64  \n",
      " 2   Deaths                  187 non-null    int64  \n",
      " 3   Recovered               187 non-null    int64  \n",
      " 4   Active                  187 non-null    int64  \n",
      " 5   New cases               187 non-null    int64  \n",
      " 6   New deaths              187 non-null    int64  \n",
      " 7   New recovered           187 non-null    int64  \n",
      " 8   Deaths / 100 Cases      187 non-null    float64\n",
      " 9   Recovered / 100 Cases   187 non-null    float64\n",
      " 10  Deaths / 100 Recovered  187 non-null    float64\n",
      " 11  Confirmed last week     187 non-null    int64  \n",
      " 12  1 week change           187 non-null    int64  \n",
      " 13  1 week % increase       187 non-null    float64\n",
      " 14  WHO Region              187 non-null    object \n",
      "dtypes: float64(4), int64(9), object(2)\n",
      "memory usage: 22.0+ KB\n"
     ]
    }
   ],
   "source": [
    "data.info()   # checking all the information about the data"
   ]
  },
  {
   "cell_type": "code",
   "execution_count": 4,
   "id": "6cab7d2c",
   "metadata": {
    "execution": {
     "iopub.execute_input": "2024-07-26T07:49:27.751050Z",
     "iopub.status.busy": "2024-07-26T07:49:27.750550Z",
     "iopub.status.idle": "2024-07-26T07:49:27.757241Z",
     "shell.execute_reply": "2024-07-26T07:49:27.756270Z"
    },
    "papermill": {
     "duration": 0.016226,
     "end_time": "2024-07-26T07:49:27.759435",
     "exception": false,
     "start_time": "2024-07-26T07:49:27.743209",
     "status": "completed"
    },
    "tags": []
   },
   "outputs": [
    {
     "data": {
      "text/plain": [
       "(187, 15)"
      ]
     },
     "execution_count": 4,
     "metadata": {},
     "output_type": "execute_result"
    }
   ],
   "source": [
    "data.shape     # checking the shape i.e., number of columns and rows"
   ]
  },
  {
   "cell_type": "code",
   "execution_count": 5,
   "id": "ef6a19ed",
   "metadata": {
    "execution": {
     "iopub.execute_input": "2024-07-26T07:49:27.774676Z",
     "iopub.status.busy": "2024-07-26T07:49:27.773704Z",
     "iopub.status.idle": "2024-07-26T07:49:27.783136Z",
     "shell.execute_reply": "2024-07-26T07:49:27.781965Z"
    },
    "papermill": {
     "duration": 0.019494,
     "end_time": "2024-07-26T07:49:27.785508",
     "exception": false,
     "start_time": "2024-07-26T07:49:27.766014",
     "status": "completed"
    },
    "tags": []
   },
   "outputs": [
    {
     "data": {
      "text/plain": [
       "Country/Region            0\n",
       "Confirmed                 0\n",
       "Deaths                    0\n",
       "Recovered                 0\n",
       "Active                    0\n",
       "New cases                 0\n",
       "New deaths                0\n",
       "New recovered             0\n",
       "Deaths / 100 Cases        0\n",
       "Recovered / 100 Cases     0\n",
       "Deaths / 100 Recovered    0\n",
       "Confirmed last week       0\n",
       "1 week change             0\n",
       "1 week % increase         0\n",
       "WHO Region                0\n",
       "dtype: int64"
      ]
     },
     "execution_count": 5,
     "metadata": {},
     "output_type": "execute_result"
    }
   ],
   "source": [
    "data.isnull().sum()         # checking for null values"
   ]
  },
  {
   "cell_type": "code",
   "execution_count": 6,
   "id": "6969e4bf",
   "metadata": {
    "execution": {
     "iopub.execute_input": "2024-07-26T07:49:27.800737Z",
     "iopub.status.busy": "2024-07-26T07:49:27.800375Z",
     "iopub.status.idle": "2024-07-26T07:49:27.850288Z",
     "shell.execute_reply": "2024-07-26T07:49:27.849095Z"
    },
    "papermill": {
     "duration": 0.060259,
     "end_time": "2024-07-26T07:49:27.852448",
     "exception": false,
     "start_time": "2024-07-26T07:49:27.792189",
     "status": "completed"
    },
    "tags": []
   },
   "outputs": [
    {
     "data": {
      "text/html": [
       "<div>\n",
       "<style scoped>\n",
       "    .dataframe tbody tr th:only-of-type {\n",
       "        vertical-align: middle;\n",
       "    }\n",
       "\n",
       "    .dataframe tbody tr th {\n",
       "        vertical-align: top;\n",
       "    }\n",
       "\n",
       "    .dataframe thead th {\n",
       "        text-align: right;\n",
       "    }\n",
       "</style>\n",
       "<table border=\"1\" class=\"dataframe\">\n",
       "  <thead>\n",
       "    <tr style=\"text-align: right;\">\n",
       "      <th></th>\n",
       "      <th>Confirmed</th>\n",
       "      <th>Deaths</th>\n",
       "      <th>Recovered</th>\n",
       "      <th>Active</th>\n",
       "      <th>New cases</th>\n",
       "      <th>New deaths</th>\n",
       "      <th>New recovered</th>\n",
       "      <th>Deaths / 100 Cases</th>\n",
       "      <th>Recovered / 100 Cases</th>\n",
       "      <th>Deaths / 100 Recovered</th>\n",
       "      <th>Confirmed last week</th>\n",
       "      <th>1 week change</th>\n",
       "      <th>1 week % increase</th>\n",
       "    </tr>\n",
       "  </thead>\n",
       "  <tbody>\n",
       "    <tr>\n",
       "      <th>count</th>\n",
       "      <td>1.870000e+02</td>\n",
       "      <td>187.000000</td>\n",
       "      <td>1.870000e+02</td>\n",
       "      <td>1.870000e+02</td>\n",
       "      <td>187.000000</td>\n",
       "      <td>187.000000</td>\n",
       "      <td>187.000000</td>\n",
       "      <td>187.000000</td>\n",
       "      <td>187.000000</td>\n",
       "      <td>187.00</td>\n",
       "      <td>1.870000e+02</td>\n",
       "      <td>187.000000</td>\n",
       "      <td>187.000000</td>\n",
       "    </tr>\n",
       "    <tr>\n",
       "      <th>mean</th>\n",
       "      <td>8.813094e+04</td>\n",
       "      <td>3497.518717</td>\n",
       "      <td>5.063148e+04</td>\n",
       "      <td>3.400194e+04</td>\n",
       "      <td>1222.957219</td>\n",
       "      <td>28.957219</td>\n",
       "      <td>933.812834</td>\n",
       "      <td>3.019519</td>\n",
       "      <td>64.820535</td>\n",
       "      <td>inf</td>\n",
       "      <td>7.868248e+04</td>\n",
       "      <td>9448.459893</td>\n",
       "      <td>13.606203</td>\n",
       "    </tr>\n",
       "    <tr>\n",
       "      <th>std</th>\n",
       "      <td>3.833187e+05</td>\n",
       "      <td>14100.002482</td>\n",
       "      <td>1.901882e+05</td>\n",
       "      <td>2.133262e+05</td>\n",
       "      <td>5710.374790</td>\n",
       "      <td>120.037173</td>\n",
       "      <td>4197.719635</td>\n",
       "      <td>3.454302</td>\n",
       "      <td>26.287694</td>\n",
       "      <td>NaN</td>\n",
       "      <td>3.382737e+05</td>\n",
       "      <td>47491.127684</td>\n",
       "      <td>24.509838</td>\n",
       "    </tr>\n",
       "    <tr>\n",
       "      <th>min</th>\n",
       "      <td>1.000000e+01</td>\n",
       "      <td>0.000000</td>\n",
       "      <td>0.000000e+00</td>\n",
       "      <td>0.000000e+00</td>\n",
       "      <td>0.000000</td>\n",
       "      <td>0.000000</td>\n",
       "      <td>0.000000</td>\n",
       "      <td>0.000000</td>\n",
       "      <td>0.000000</td>\n",
       "      <td>0.00</td>\n",
       "      <td>1.000000e+01</td>\n",
       "      <td>-47.000000</td>\n",
       "      <td>-3.840000</td>\n",
       "    </tr>\n",
       "    <tr>\n",
       "      <th>25%</th>\n",
       "      <td>1.114000e+03</td>\n",
       "      <td>18.500000</td>\n",
       "      <td>6.265000e+02</td>\n",
       "      <td>1.415000e+02</td>\n",
       "      <td>4.000000</td>\n",
       "      <td>0.000000</td>\n",
       "      <td>0.000000</td>\n",
       "      <td>0.945000</td>\n",
       "      <td>48.770000</td>\n",
       "      <td>1.45</td>\n",
       "      <td>1.051500e+03</td>\n",
       "      <td>49.000000</td>\n",
       "      <td>2.775000</td>\n",
       "    </tr>\n",
       "    <tr>\n",
       "      <th>50%</th>\n",
       "      <td>5.059000e+03</td>\n",
       "      <td>108.000000</td>\n",
       "      <td>2.815000e+03</td>\n",
       "      <td>1.600000e+03</td>\n",
       "      <td>49.000000</td>\n",
       "      <td>1.000000</td>\n",
       "      <td>22.000000</td>\n",
       "      <td>2.150000</td>\n",
       "      <td>71.320000</td>\n",
       "      <td>3.62</td>\n",
       "      <td>5.020000e+03</td>\n",
       "      <td>432.000000</td>\n",
       "      <td>6.890000</td>\n",
       "    </tr>\n",
       "    <tr>\n",
       "      <th>75%</th>\n",
       "      <td>4.046050e+04</td>\n",
       "      <td>734.000000</td>\n",
       "      <td>2.260600e+04</td>\n",
       "      <td>9.149000e+03</td>\n",
       "      <td>419.500000</td>\n",
       "      <td>6.000000</td>\n",
       "      <td>221.000000</td>\n",
       "      <td>3.875000</td>\n",
       "      <td>86.885000</td>\n",
       "      <td>6.44</td>\n",
       "      <td>3.708050e+04</td>\n",
       "      <td>3172.000000</td>\n",
       "      <td>16.855000</td>\n",
       "    </tr>\n",
       "    <tr>\n",
       "      <th>max</th>\n",
       "      <td>4.290259e+06</td>\n",
       "      <td>148011.000000</td>\n",
       "      <td>1.846641e+06</td>\n",
       "      <td>2.816444e+06</td>\n",
       "      <td>56336.000000</td>\n",
       "      <td>1076.000000</td>\n",
       "      <td>33728.000000</td>\n",
       "      <td>28.560000</td>\n",
       "      <td>100.000000</td>\n",
       "      <td>inf</td>\n",
       "      <td>3.834677e+06</td>\n",
       "      <td>455582.000000</td>\n",
       "      <td>226.320000</td>\n",
       "    </tr>\n",
       "  </tbody>\n",
       "</table>\n",
       "</div>"
      ],
      "text/plain": [
       "          Confirmed         Deaths     Recovered        Active     New cases  \\\n",
       "count  1.870000e+02     187.000000  1.870000e+02  1.870000e+02    187.000000   \n",
       "mean   8.813094e+04    3497.518717  5.063148e+04  3.400194e+04   1222.957219   \n",
       "std    3.833187e+05   14100.002482  1.901882e+05  2.133262e+05   5710.374790   \n",
       "min    1.000000e+01       0.000000  0.000000e+00  0.000000e+00      0.000000   \n",
       "25%    1.114000e+03      18.500000  6.265000e+02  1.415000e+02      4.000000   \n",
       "50%    5.059000e+03     108.000000  2.815000e+03  1.600000e+03     49.000000   \n",
       "75%    4.046050e+04     734.000000  2.260600e+04  9.149000e+03    419.500000   \n",
       "max    4.290259e+06  148011.000000  1.846641e+06  2.816444e+06  56336.000000   \n",
       "\n",
       "        New deaths  New recovered  Deaths / 100 Cases  Recovered / 100 Cases  \\\n",
       "count   187.000000     187.000000          187.000000             187.000000   \n",
       "mean     28.957219     933.812834            3.019519              64.820535   \n",
       "std     120.037173    4197.719635            3.454302              26.287694   \n",
       "min       0.000000       0.000000            0.000000               0.000000   \n",
       "25%       0.000000       0.000000            0.945000              48.770000   \n",
       "50%       1.000000      22.000000            2.150000              71.320000   \n",
       "75%       6.000000     221.000000            3.875000              86.885000   \n",
       "max    1076.000000   33728.000000           28.560000             100.000000   \n",
       "\n",
       "       Deaths / 100 Recovered  Confirmed last week  1 week change  \\\n",
       "count                  187.00         1.870000e+02     187.000000   \n",
       "mean                      inf         7.868248e+04    9448.459893   \n",
       "std                       NaN         3.382737e+05   47491.127684   \n",
       "min                      0.00         1.000000e+01     -47.000000   \n",
       "25%                      1.45         1.051500e+03      49.000000   \n",
       "50%                      3.62         5.020000e+03     432.000000   \n",
       "75%                      6.44         3.708050e+04    3172.000000   \n",
       "max                       inf         3.834677e+06  455582.000000   \n",
       "\n",
       "       1 week % increase  \n",
       "count         187.000000  \n",
       "mean           13.606203  \n",
       "std            24.509838  \n",
       "min            -3.840000  \n",
       "25%             2.775000  \n",
       "50%             6.890000  \n",
       "75%            16.855000  \n",
       "max           226.320000  "
      ]
     },
     "execution_count": 6,
     "metadata": {},
     "output_type": "execute_result"
    }
   ],
   "source": [
    "data.describe()     # checking the stats of the data"
   ]
  },
  {
   "cell_type": "markdown",
   "id": "ef8fd4d5",
   "metadata": {
    "papermill": {
     "duration": 0.007086,
     "end_time": "2024-07-26T07:49:27.866561",
     "exception": false,
     "start_time": "2024-07-26T07:49:27.859475",
     "status": "completed"
    },
    "tags": []
   },
   "source": [
    "# Data Analysis"
   ]
  },
  {
   "cell_type": "markdown",
   "id": "44cba16b",
   "metadata": {
    "papermill": {
     "duration": 0.007149,
     "end_time": "2024-07-26T07:49:27.880703",
     "exception": false,
     "start_time": "2024-07-26T07:49:27.873554",
     "status": "completed"
    },
    "tags": []
   },
   "source": [
    "# **1. Total number of Confirmed, Deaths, Recovered and Active cases around the world**"
   ]
  },
  {
   "cell_type": "code",
   "execution_count": 7,
   "id": "241c717a",
   "metadata": {
    "execution": {
     "iopub.execute_input": "2024-07-26T07:49:27.897314Z",
     "iopub.status.busy": "2024-07-26T07:49:27.896868Z",
     "iopub.status.idle": "2024-07-26T07:49:28.246383Z",
     "shell.execute_reply": "2024-07-26T07:49:28.245240Z"
    },
    "papermill": {
     "duration": 0.361021,
     "end_time": "2024-07-26T07:49:28.248968",
     "exception": false,
     "start_time": "2024-07-26T07:49:27.887947",
     "status": "completed"
    },
    "tags": []
   },
   "outputs": [
    {
     "data": {
      "image/png": "[encoded data removed]",
      "text/plain": [
       "<Figure size 640x480 with 1 Axes>"
      ]
     },
     "metadata": {},
     "output_type": "display_data"
    }
   ],
   "source": [
    "status_count = ['Confirmed','Deaths','Recovered','Active']\n",
    "column_sums = data[status_count].sum().plot(kind = 'bar', xlabel = ('Status'),ylabel = ('Count in Millions'), title = ('Count of Population Status'))\n"
   ]
  },
  {
   "cell_type": "markdown",
   "id": "44dab911",
   "metadata": {
    "papermill": {
     "duration": 0.007213,
     "end_time": "2024-07-26T07:49:28.263623",
     "exception": false,
     "start_time": "2024-07-26T07:49:28.256410",
     "status": "completed"
    },
    "tags": []
   },
   "source": [
    "**From the above graph, it is observed that the number of confirmed cases are high and surpassed 1.6 millions. Death toll is stands at 0.1 millions followed by Recovered and Active cases are above 0.6 millions.**"
   ]
  },
  {
   "cell_type": "markdown",
   "id": "7909fd1c",
   "metadata": {
    "papermill": {
     "duration": 0.007556,
     "end_time": "2024-07-26T07:49:28.279217",
     "exception": false,
     "start_time": "2024-07-26T07:49:28.271661",
     "status": "completed"
    },
    "tags": []
   },
   "source": [
    "# **2. Confirmed Cases in each Region**"
   ]
  },
  {
   "cell_type": "code",
   "execution_count": 8,
   "id": "f34b3f4d",
   "metadata": {
    "execution": {
     "iopub.execute_input": "2024-07-26T07:49:28.296208Z",
     "iopub.status.busy": "2024-07-26T07:49:28.295821Z",
     "iopub.status.idle": "2024-07-26T07:49:28.318845Z",
     "shell.execute_reply": "2024-07-26T07:49:28.317845Z"
    },
    "papermill": {
     "duration": 0.03438,
     "end_time": "2024-07-26T07:49:28.321067",
     "exception": false,
     "start_time": "2024-07-26T07:49:28.286687",
     "status": "completed"
    },
    "tags": []
   },
   "outputs": [
    {
     "data": {
      "text/html": [
       "<div>\n",
       "<style scoped>\n",
       "    .dataframe tbody tr th:only-of-type {\n",
       "        vertical-align: middle;\n",
       "    }\n",
       "\n",
       "    .dataframe tbody tr th {\n",
       "        vertical-align: top;\n",
       "    }\n",
       "\n",
       "    .dataframe thead th {\n",
       "        text-align: right;\n",
       "    }\n",
       "</style>\n",
       "<table border=\"1\" class=\"dataframe\">\n",
       "  <thead>\n",
       "    <tr style=\"text-align: right;\">\n",
       "      <th></th>\n",
       "      <th>Country/Region</th>\n",
       "      <th>Confirmed</th>\n",
       "      <th>Deaths</th>\n",
       "      <th>Recovered</th>\n",
       "      <th>Active</th>\n",
       "      <th>New cases</th>\n",
       "      <th>New deaths</th>\n",
       "      <th>New recovered</th>\n",
       "      <th>Deaths / 100 Cases</th>\n",
       "      <th>Recovered / 100 Cases</th>\n",
       "      <th>Deaths / 100 Recovered</th>\n",
       "      <th>Confirmed last week</th>\n",
       "      <th>1 week change</th>\n",
       "      <th>1 week % increase</th>\n",
       "    </tr>\n",
       "    <tr>\n",
       "      <th>WHO Region</th>\n",
       "      <th></th>\n",
       "      <th></th>\n",
       "      <th></th>\n",
       "      <th></th>\n",
       "      <th></th>\n",
       "      <th></th>\n",
       "      <th></th>\n",
       "      <th></th>\n",
       "      <th></th>\n",
       "      <th></th>\n",
       "      <th></th>\n",
       "      <th></th>\n",
       "      <th></th>\n",
       "      <th></th>\n",
       "    </tr>\n",
       "  </thead>\n",
       "  <tbody>\n",
       "    <tr>\n",
       "      <th>Africa</th>\n",
       "      <td>AlgeriaAngolaBeninBotswanaBurkina FasoBurundiC...</td>\n",
       "      <td>723207</td>\n",
       "      <td>12223</td>\n",
       "      <td>440645</td>\n",
       "      <td>270339</td>\n",
       "      <td>12176</td>\n",
       "      <td>353</td>\n",
       "      <td>14563</td>\n",
       "      <td>110.71</td>\n",
       "      <td>2736.71</td>\n",
       "      <td>NaN</td>\n",
       "      <td>608120</td>\n",
       "      <td>115087</td>\n",
       "      <td>868.15</td>\n",
       "    </tr>\n",
       "    <tr>\n",
       "      <th>Americas</th>\n",
       "      <td>Antigua and BarbudaArgentinaBahamasBarbadosBel...</td>\n",
       "      <td>8839286</td>\n",
       "      <td>342732</td>\n",
       "      <td>4468616</td>\n",
       "      <td>4027938</td>\n",
       "      <td>129531</td>\n",
       "      <td>3555</td>\n",
       "      <td>94776</td>\n",
       "      <td>106.84</td>\n",
       "      <td>2180.20</td>\n",
       "      <td>NaN</td>\n",
       "      <td>7815198</td>\n",
       "      <td>1024088</td>\n",
       "      <td>571.59</td>\n",
       "    </tr>\n",
       "    <tr>\n",
       "      <th>Eastern Mediterranean</th>\n",
       "      <td>AfghanistanBahrainDjiboutiEgyptIranIraqJordanK...</td>\n",
       "      <td>1490744</td>\n",
       "      <td>38339</td>\n",
       "      <td>1201400</td>\n",
       "      <td>251005</td>\n",
       "      <td>12410</td>\n",
       "      <td>445</td>\n",
       "      <td>14843</td>\n",
       "      <td>78.39</td>\n",
       "      <td>1465.05</td>\n",
       "      <td>NaN</td>\n",
       "      <td>1398847</td>\n",
       "      <td>91897</td>\n",
       "      <td>230.61</td>\n",
       "    </tr>\n",
       "    <tr>\n",
       "      <th>Europe</th>\n",
       "      <td>AlbaniaAndorraArmeniaAustriaAzerbaijanBelarusB...</td>\n",
       "      <td>3299523</td>\n",
       "      <td>211144</td>\n",
       "      <td>1993723</td>\n",
       "      <td>1094656</td>\n",
       "      <td>22294</td>\n",
       "      <td>304</td>\n",
       "      <td>11732</td>\n",
       "      <td>235.11</td>\n",
       "      <td>3843.56</td>\n",
       "      <td>NaN</td>\n",
       "      <td>3146816</td>\n",
       "      <td>152707</td>\n",
       "      <td>435.10</td>\n",
       "    </tr>\n",
       "    <tr>\n",
       "      <th>South-East Asia</th>\n",
       "      <td>BangladeshBhutanBurmaIndiaIndonesiaMaldivesNep...</td>\n",
       "      <td>1835297</td>\n",
       "      <td>41349</td>\n",
       "      <td>1156933</td>\n",
       "      <td>637015</td>\n",
       "      <td>48993</td>\n",
       "      <td>734</td>\n",
       "      <td>37582</td>\n",
       "      <td>12.96</td>\n",
       "      <td>667.04</td>\n",
       "      <td>19.56</td>\n",
       "      <td>1478283</td>\n",
       "      <td>357014</td>\n",
       "      <td>85.13</td>\n",
       "    </tr>\n",
       "  </tbody>\n",
       "</table>\n",
       "</div>"
      ],
      "text/plain": [
       "                                                          Country/Region  \\\n",
       "WHO Region                                                                 \n",
       "Africa                 AlgeriaAngolaBeninBotswanaBurkina FasoBurundiC...   \n",
       "Americas               Antigua and BarbudaArgentinaBahamasBarbadosBel...   \n",
       "Eastern Mediterranean  AfghanistanBahrainDjiboutiEgyptIranIraqJordanK...   \n",
       "Europe                 AlbaniaAndorraArmeniaAustriaAzerbaijanBelarusB...   \n",
       "South-East Asia        BangladeshBhutanBurmaIndiaIndonesiaMaldivesNep...   \n",
       "\n",
       "                       Confirmed  Deaths  Recovered   Active  New cases  \\\n",
       "WHO Region                                                                \n",
       "Africa                    723207   12223     440645   270339      12176   \n",
       "Americas                 8839286  342732    4468616  4027938     129531   \n",
       "Eastern Mediterranean    1490744   38339    1201400   251005      12410   \n",
       "Europe                   3299523  211144    1993723  1094656      22294   \n",
       "South-East Asia          1835297   41349    1156933   637015      48993   \n",
       "\n",
       "                       New deaths  New recovered  Deaths / 100 Cases  \\\n",
       "WHO Region                                                             \n",
       "Africa                        353          14563              110.71   \n",
       "Americas                     3555          94776              106.84   \n",
       "Eastern Mediterranean         445          14843               78.39   \n",
       "Europe                        304          11732              235.11   \n",
       "South-East Asia               734          37582               12.96   \n",
       "\n",
       "                       Recovered / 100 Cases  Deaths / 100 Recovered  \\\n",
       "WHO Region                                                             \n",
       "Africa                               2736.71                     NaN   \n",
       "Americas                             2180.20                     NaN   \n",
       "Eastern Mediterranean                1465.05                     NaN   \n",
       "Europe                               3843.56                     NaN   \n",
       "South-East Asia                       667.04                   19.56   \n",
       "\n",
       "                       Confirmed last week  1 week change  1 week % increase  \n",
       "WHO Region                                                                    \n",
       "Africa                              608120         115087             868.15  \n",
       "Americas                           7815198        1024088             571.59  \n",
       "Eastern Mediterranean              1398847          91897             230.61  \n",
       "Europe                             3146816         152707             435.10  \n",
       "South-East Asia                    1478283         357014              85.13  "
      ]
     },
     "execution_count": 8,
     "metadata": {},
     "output_type": "execute_result"
    }
   ],
   "source": [
    "Region = data.groupby(by = 'WHO Region').sum()\n",
    "Region.head()"
   ]
  },
  {
   "cell_type": "code",
   "execution_count": 9,
   "id": "5f15e18c",
   "metadata": {
    "execution": {
     "iopub.execute_input": "2024-07-26T07:49:28.338606Z",
     "iopub.status.busy": "2024-07-26T07:49:28.337662Z",
     "iopub.status.idle": "2024-07-26T07:49:28.582821Z",
     "shell.execute_reply": "2024-07-26T07:49:28.581772Z"
    },
    "papermill": {
     "duration": 0.256489,
     "end_time": "2024-07-26T07:49:28.585259",
     "exception": false,
     "start_time": "2024-07-26T07:49:28.328770",
     "status": "completed"
    },
    "tags": []
   },
   "outputs": [
    {
     "data": {
      "text/plain": [
       "Text(0, 0.5, 'Count in Millions')"
      ]
     },
     "execution_count": 9,
     "metadata": {},
     "output_type": "execute_result"
    },
    {
     "data": {
      "image/png": "[encoded data removed]",
      "text/plain": [
       "<Figure size 640x480 with 1 Axes>"
      ]
     },
     "metadata": {},
     "output_type": "display_data"
    }
   ],
   "source": [
    "Region['Confirmed'].plot(kind= 'bar')\n",
    "plt.title('Confirmed Cases Grouped by WHO Regions')\n",
    "plt.ylabel('Count in Millions')"
   ]
  },
  {
   "cell_type": "code",
   "execution_count": 10,
   "id": "c23648d1",
   "metadata": {
    "execution": {
     "iopub.execute_input": "2024-07-26T07:49:28.603943Z",
     "iopub.status.busy": "2024-07-26T07:49:28.603560Z",
     "iopub.status.idle": "2024-07-26T07:49:28.782478Z",
     "shell.execute_reply": "2024-07-26T07:49:28.781338Z"
    },
    "papermill": {
     "duration": 0.191622,
     "end_time": "2024-07-26T07:49:28.785378",
     "exception": false,
     "start_time": "2024-07-26T07:49:28.593756",
     "status": "completed"
    },
    "tags": []
   },
   "outputs": [
    {
     "data": {
      "text/plain": [
       "Text(0, 0.5, '')"
      ]
     },
     "execution_count": 10,
     "metadata": {},
     "output_type": "execute_result"
    },
    {
     "data": {
      "image/png": "[encoded data removed]",
      "text/plain": [
       "<Figure size 640x480 with 1 Axes>"
      ]
     },
     "metadata": {},
     "output_type": "display_data"
    }
   ],
   "source": [
    "Region['Confirmed'].plot(kind='pie', autopct='%1.1f%%')\n",
    "plt.title('Distribution of Cases by WHO Region')\n",
    "plt.ylabel('')"
   ]
  },
  {
   "cell_type": "markdown",
   "id": "d37ec4d4",
   "metadata": {
    "papermill": {
     "duration": 0.009067,
     "end_time": "2024-07-26T07:49:28.804337",
     "exception": false,
     "start_time": "2024-07-26T07:49:28.795270",
     "status": "completed"
    },
    "tags": []
   },
   "source": [
    "**It is observed that the highest percentage of Confirmed cases are in Americas followed by Europe at 2nd postion and while the lowest impact seen in the western pacific region**"
   ]
  },
  {
   "cell_type": "markdown",
   "id": "5c8e608d",
   "metadata": {
    "papermill": {
     "duration": 0.009566,
     "end_time": "2024-07-26T07:49:28.823913",
     "exception": false,
     "start_time": "2024-07-26T07:49:28.814347",
     "status": "completed"
    },
    "tags": []
   },
   "source": [
    "# **3. Deaths in each Region**"
   ]
  },
  {
   "cell_type": "code",
   "execution_count": 11,
   "id": "2aae0bb7",
   "metadata": {
    "execution": {
     "iopub.execute_input": "2024-07-26T07:49:28.845934Z",
     "iopub.status.busy": "2024-07-26T07:49:28.843993Z",
     "iopub.status.idle": "2024-07-26T07:49:29.118785Z",
     "shell.execute_reply": "2024-07-26T07:49:29.117620Z"
    },
    "papermill": {
     "duration": 0.288077,
     "end_time": "2024-07-26T07:49:29.121497",
     "exception": false,
     "start_time": "2024-07-26T07:49:28.833420",
     "status": "completed"
    },
    "tags": []
   },
   "outputs": [
    {
     "data": {
      "text/plain": [
       "Text(0, 0.5, 'Count')"
      ]
     },
     "execution_count": 11,
     "metadata": {},
     "output_type": "execute_result"
    },
    {
     "data": {
      "image/png": "[encoded data removed]",
      "text/plain": [
       "<Figure size 640x480 with 1 Axes>"
      ]
     },
     "metadata": {},
     "output_type": "display_data"
    }
   ],
   "source": [
    "Region['Deaths'].plot(kind = 'bar')\n",
    "plt.title('Deaths Grouped by WHO Region')\n",
    "plt.ylabel('Count')"
   ]
  },
  {
   "cell_type": "code",
   "execution_count": 12,
   "id": "616b3ee4",
   "metadata": {
    "execution": {
     "iopub.execute_input": "2024-07-26T07:49:29.143141Z",
     "iopub.status.busy": "2024-07-26T07:49:29.142748Z",
     "iopub.status.idle": "2024-07-26T07:49:29.332571Z",
     "shell.execute_reply": "2024-07-26T07:49:29.331147Z"
    },
    "papermill": {
     "duration": 0.206446,
     "end_time": "2024-07-26T07:49:29.337880",
     "exception": false,
     "start_time": "2024-07-26T07:49:29.131434",
     "status": "completed"
    },
    "tags": []
   },
   "outputs": [
    {
     "data": {
      "image/png": "[encoded data removed]",
      "text/plain": [
       "<Figure size 640x480 with 1 Axes>"
      ]
     },
     "metadata": {},
     "output_type": "display_data"
    }
   ],
   "source": [
    "Region['Deaths'].plot(kind = 'pie', autopct = '%1.1f%%')\n",
    "plt.title('Distribution of Deaths by Region')\n",
    "plt.xlabel('Region')\n",
    "plt.show()"
   ]
  },
  {
   "cell_type": "markdown",
   "id": "7083acae",
   "metadata": {
    "papermill": {
     "duration": 0.017137,
     "end_time": "2024-07-26T07:49:29.373150",
     "exception": false,
     "start_time": "2024-07-26T07:49:29.356013",
     "status": "completed"
    },
    "tags": []
   },
   "source": [
    "**From the above pie chart it is observed that the highest percentage of deaths occured in American Region i.e., 52.4% followed by Europ at 32.3% and the least impacted region in the deaths are Western Pacific and Africa at 1.3% and 1.9% each.**"
   ]
  },
  {
   "cell_type": "markdown",
   "id": "60bd2269",
   "metadata": {
    "papermill": {
     "duration": 0.01023,
     "end_time": "2024-07-26T07:49:29.394348",
     "exception": false,
     "start_time": "2024-07-26T07:49:29.384118",
     "status": "completed"
    },
    "tags": []
   },
   "source": [
    "# **4. Recovered and Active Cases grouped by WHO Regions**"
   ]
  },
  {
   "cell_type": "code",
   "execution_count": 13,
   "id": "53d6aa53",
   "metadata": {
    "execution": {
     "iopub.execute_input": "2024-07-26T07:49:29.417387Z",
     "iopub.status.busy": "2024-07-26T07:49:29.417005Z",
     "iopub.status.idle": "2024-07-26T07:49:29.752689Z",
     "shell.execute_reply": "2024-07-26T07:49:29.751647Z"
    },
    "papermill": {
     "duration": 0.350343,
     "end_time": "2024-07-26T07:49:29.755080",
     "exception": false,
     "start_time": "2024-07-26T07:49:29.404737",
     "status": "completed"
    },
    "tags": []
   },
   "outputs": [
    {
     "data": {
      "text/plain": [
       "Text(0, 0.5, 'Count in millions')"
      ]
     },
     "execution_count": 13,
     "metadata": {},
     "output_type": "execute_result"
    },
    {
     "data": {
      "image/png": "[encoded data removed]",
      "text/plain": [
       "<Figure size 640x480 with 1 Axes>"
      ]
     },
     "metadata": {},
     "output_type": "display_data"
    }
   ],
   "source": [
    "Region[['Recovered','Active']].plot(kind = 'bar')\n",
    "plt.title('Recovered and Active Cases by Regions')\n",
    "plt.xlabel('Region')\n",
    "plt.ylabel('Count in millions')"
   ]
  },
  {
   "cell_type": "markdown",
   "id": "e12adf46",
   "metadata": {
    "papermill": {
     "duration": 0.011099,
     "end_time": "2024-07-26T07:49:29.777437",
     "exception": false,
     "start_time": "2024-07-26T07:49:29.766338",
     "status": "completed"
    },
    "tags": []
   },
   "source": [
    "**As per the above chart it is noticed that the number of active and recovered cases are high in Americas at exceeding 4 millions while the lowest is in Western Pacific below 0.5 million. And Comparatively the recovering rate of cases are higher than the active one.**"
   ]
  },
  {
   "cell_type": "markdown",
   "id": "f72ec3cc",
   "metadata": {
    "papermill": {
     "duration": 0.011127,
     "end_time": "2024-07-26T07:49:29.800403",
     "exception": false,
     "start_time": "2024-07-26T07:49:29.789276",
     "status": "completed"
    },
    "tags": []
   },
   "source": []
  },
  {
   "cell_type": "markdown",
   "id": "6af9a718",
   "metadata": {},
   "source": [
    "# Predictive Modeling"
   ]
  },
  {
   "cell_type": "markdown",
   "id": "6f120dea",
   "metadata": {},
   "source": [
    "+Data preprocessing"
   ]
  },
  {
   "cell_type": "code",
   "execution_count": 14,
   "id": "7b5998f6",
   "metadata": {},
   "outputs": [],
   "source": [
    "from sklearn.model_selection import train_test_split\n",
    "from sklearn.preprocessing import StandardScaler"
   ]
  },
  {
   "cell_type": "code",
   "execution_count": 15,
   "id": "5260f436",
   "metadata": {},
   "outputs": [],
   "source": [
    "# Drop irrelevant columns\n",
    "data.drop(['WHO Region', 'Country/Region'], axis=1, inplace=True)"
   ]
  },
  {
   "cell_type": "code",
   "execution_count": 16,
   "id": "b5f86ea2",
   "metadata": {},
   "outputs": [],
   "source": [
    "# Feature engineering\n",
    "data['%Inc Cases'] = data['New cases'].pct_change()\n",
    "data['%Inc Recovered'] = data['Recovered'].pct_change()\n",
    "data['%Inc Deaths'] = data['Deaths'].pct_change()"
   ]
  },
  {
   "cell_type": "code",
   "execution_count": 17,
   "id": "87b60fd2",
   "metadata": {},
   "outputs": [],
   "source": [
    "# Drop rows with NaN values\n",
    "data.dropna(inplace=True)"
   ]
  },
  {
   "cell_type": "code",
   "execution_count": 18,
   "id": "0bbd7f69",
   "metadata": {},
   "outputs": [],
   "source": [
    "# Split data into features and target\n",
    "X = data.drop('New cases', axis=1).values\n",
    "y = data['New cases'].values"
   ]
  },
  {
   "cell_type": "code",
   "execution_count": 19,
   "id": "384e28af",
   "metadata": {},
   "outputs": [],
   "source": [
    "# Check and handle infinite values\n",
    "X = np.where(np.isinf(X), np.nan, X)\n",
    "X = np.nan_to_num(X, nan=np.nanmax(X))"
   ]
  },
  {
   "cell_type": "code",
   "execution_count": 20,
   "id": "6c3e1bc9",
   "metadata": {},
   "outputs": [],
   "source": [
    "# Clip extremely large values\n",
    "max_threshold = np.finfo(np.float64).max\n",
    "X = np.clip(X, -max_threshold, max_threshold)"
   ]
  },
  {
   "cell_type": "code",
   "execution_count": 21,
   "id": "2656dafa",
   "metadata": {},
   "outputs": [],
   "source": [
    "# Split data into training and testing sets\n",
    "X_train, X_test, y_train, y_test = train_test_split(X, y, test_size=0.2, random_state=42)"
   ]
  },
  {
   "cell_type": "code",
   "execution_count": 22,
   "id": "319060cb",
   "metadata": {},
   "outputs": [],
   "source": [
    "# Standardize the features\n",
    "scaler = StandardScaler()\n",
    "X_train = scaler.fit_transform(X_train)\n",
    "X_test = scaler.transform(X_test)"
   ]
  },
  {
   "cell_type": "markdown",
   "id": "ddacad9b",
   "metadata": {},
   "source": [
    "+Model Selection and Training"
   ]
  },
  {
   "cell_type": "code",
   "execution_count": 23,
   "id": "ccf9b20f",
   "metadata": {},
   "outputs": [],
   "source": [
    "from sklearn.ensemble import RandomForestRegressor"
   ]
  },
  {
   "cell_type": "code",
   "execution_count": 24,
   "id": "de5c5d83",
   "metadata": {},
   "outputs": [],
   "source": [
    "# Initialize the model\n",
    "model = RandomForestRegressor(n_estimators=100, random_state=42)"
   ]
  },
  {
   "cell_type": "code",
   "execution_count": 25,
   "id": "b8a7b852",
   "metadata": {},
   "outputs": [
    {
     "data": {
      "text/html": [
       "<style>#sk-container-id-1 {color: black;}#sk-container-id-1 pre{padding: 0;}#sk-container-id-1 div.sk-toggleable {background-color: white;}#sk-container-id-1 label.sk-toggleable__label {cursor: pointer;display: block;width: 100%;margin-bottom: 0;padding: 0.3em;box-sizing: border-box;text-align: center;}#sk-container-id-1 label.sk-toggleable__label-arrow:before {content: \"▸\";float: left;margin-right: 0.25em;color: #696969;}#sk-container-id-1 label.sk-toggleable__label-arrow:hover:before {color: black;}#sk-container-id-1 div.sk-estimator:hover label.sk-toggleable__label-arrow:before {color: black;}#sk-container-id-1 div.sk-toggleable__content {max-height: 0;max-width: 0;overflow: hidden;text-align: left;background-color: #f0f8ff;}#sk-container-id-1 div.sk-toggleable__content pre {margin: 0.2em;color: black;border-radius: 0.25em;background-color: #f0f8ff;}#sk-container-id-1 input.sk-toggleable__control:checked~div.sk-toggleable__content {max-height: 200px;max-width: 100%;overflow: auto;}#sk-container-id-1 input.sk-toggleable__control:checked~label.sk-toggleable__label-arrow:before {content: \"▾\";}#sk-container-id-1 div.sk-estimator input.sk-toggleable__control:checked~label.sk-toggleable__label {background-color: #d4ebff;}#sk-container-id-1 div.sk-label input.sk-toggleable__control:checked~label.sk-toggleable__label {background-color: #d4ebff;}#sk-container-id-1 input.sk-hidden--visually {border: 0;clip: rect(1px 1px 1px 1px);clip: rect(1px, 1px, 1px, 1px);height: 1px;margin: -1px;overflow: hidden;padding: 0;position: absolute;width: 1px;}#sk-container-id-1 div.sk-estimator {font-family: monospace;background-color: #f0f8ff;border: 1px dotted black;border-radius: 0.25em;box-sizing: border-box;margin-bottom: 0.5em;}#sk-container-id-1 div.sk-estimator:hover {background-color: #d4ebff;}#sk-container-id-1 div.sk-parallel-item::after {content: \"\";width: 100%;border-bottom: 1px solid gray;flex-grow: 1;}#sk-container-id-1 div.sk-label:hover label.sk-toggleable__label {background-color: #d4ebff;}#sk-container-id-1 div.sk-serial::before {content: \"\";position: absolute;border-left: 1px solid gray;box-sizing: border-box;top: 0;bottom: 0;left: 50%;z-index: 0;}#sk-container-id-1 div.sk-serial {display: flex;flex-direction: column;align-items: center;background-color: white;padding-right: 0.2em;padding-left: 0.2em;position: relative;}#sk-container-id-1 div.sk-item {position: relative;z-index: 1;}#sk-container-id-1 div.sk-parallel {display: flex;align-items: stretch;justify-content: center;background-color: white;position: relative;}#sk-container-id-1 div.sk-item::before, #sk-container-id-1 div.sk-parallel-item::before {content: \"\";position: absolute;border-left: 1px solid gray;box-sizing: border-box;top: 0;bottom: 0;left: 50%;z-index: -1;}#sk-container-id-1 div.sk-parallel-item {display: flex;flex-direction: column;z-index: 1;position: relative;background-color: white;}#sk-container-id-1 div.sk-parallel-item:first-child::after {align-self: flex-end;width: 50%;}#sk-container-id-1 div.sk-parallel-item:last-child::after {align-self: flex-start;width: 50%;}#sk-container-id-1 div.sk-parallel-item:only-child::after {width: 0;}#sk-container-id-1 div.sk-dashed-wrapped {border: 1px dashed gray;margin: 0 0.4em 0.5em 0.4em;box-sizing: border-box;padding-bottom: 0.4em;background-color: white;}#sk-container-id-1 div.sk-label label {font-family: monospace;font-weight: bold;display: inline-block;line-height: 1.2em;}#sk-container-id-1 div.sk-label-container {text-align: center;}#sk-container-id-1 div.sk-container {/* jupyter's `normalize.less` sets `[hidden] { display: none; }` but bootstrap.min.css set `[hidden] { display: none !important; }` so we also need the `!important` here to be able to override the default hidden behavior on the sphinx rendered scikit-learn.org. See: https://github.com/scikit-learn/scikit-learn/issues/21755 */display: inline-block !important;position: relative;}#sk-container-id-1 div.sk-text-repr-fallback {display: none;}</style><div id=\"sk-container-id-1\" class=\"sk-top-container\"><div class=\"sk-text-repr-fallback\"><pre>RandomForestRegressor(random_state=42)</pre><b>In a Jupyter environment, please rerun this cell to show the HTML representation or trust the notebook. <br />On GitHub, the HTML representation is unable to render, please try loading this page with nbviewer.org.</b></div><div class=\"sk-container\" hidden><div class=\"sk-item\"><div class=\"sk-estimator sk-toggleable\"><input class=\"sk-toggleable__control sk-hidden--visually\" id=\"sk-estimator-id-1\" type=\"checkbox\" checked><label for=\"sk-estimator-id-1\" class=\"sk-toggleable__label sk-toggleable__label-arrow\">RandomForestRegressor</label><div class=\"sk-toggleable__content\"><pre>RandomForestRegressor(random_state=42)</pre></div></div></div></div></div>"
      ],
      "text/plain": [
       "RandomForestRegressor(random_state=42)"
      ]
     },
     "execution_count": 25,
     "metadata": {},
     "output_type": "execute_result"
    }
   ],
   "source": [
    "# Train the model\n",
    "model.fit(X_train, y_train)"
   ]
  },
  {
   "cell_type": "markdown",
   "id": "819045e5",
   "metadata": {},
   "source": [
    "+Model Evaluation"
   ]
  },
  {
   "cell_type": "code",
   "execution_count": 26,
   "id": "ebf7b695",
   "metadata": {},
   "outputs": [],
   "source": [
    "from sklearn.metrics import mean_absolute_error, mean_squared_error"
   ]
  },
  {
   "cell_type": "code",
   "execution_count": 27,
   "id": "dd13128d",
   "metadata": {},
   "outputs": [],
   "source": [
    "# Make predictions\n",
    "y_pred = model.predict(X_test)"
   ]
  },
  {
   "cell_type": "code",
   "execution_count": 28,
   "id": "a8212476",
   "metadata": {},
   "outputs": [
    {
     "name": "stdout",
     "output_type": "stream",
     "text": [
      "Mean Absolute Error: 925.2702777777777\n",
      "Mean Squared Error: 20903036.791219443\n"
     ]
    }
   ],
   "source": [
    "# Evaluate the model\n",
    "mae = mean_absolute_error(y_test, y_pred)\n",
    "mse = mean_squared_error(y_test, y_pred)\n",
    "\n",
    "print(f'Mean Absolute Error: {mae}')\n",
    "print(f'Mean Squared Error: {mse}')\n"
   ]
  },
  {
   "cell_type": "markdown",
   "id": "7a55bea2",
   "metadata": {},
   "source": [
    "+Model Deployment"
   ]
  },
  {
   "cell_type": "code",
   "execution_count": 29,
   "id": "da76bc58",
   "metadata": {},
   "outputs": [],
   "source": [
    "import joblib"
   ]
  },
  {
   "cell_type": "code",
   "execution_count": 30,
   "id": "c7043b2d",
   "metadata": {},
   "outputs": [
    {
     "data": {
      "text/plain": [
       "['covid19_model.pkl']"
      ]
     },
     "execution_count": 30,
     "metadata": {},
     "output_type": "execute_result"
    }
   ],
   "source": [
    "# Save the trained model\n",
    "joblib.dump(model, 'covid19_model.pkl')"
   ]
  },
  {
   "cell_type": "code",
   "execution_count": 32,
   "id": "adcdefd4",
   "metadata": {},
   "outputs": [],
   "source": [
    "# Load the model for predictions\n",
    "loaded_model = joblib.load('covid19_model.pkl')"
   ]
  }
 ],
 "metadata": {
  "kaggle": {
   "accelerator": "none",
   "dataSources": [
    {
     "datasetId": 494766,
     "sourceId": 1402868,
     "sourceType": "datasetVersion"
    }
   ],
   "dockerImageVersionId": 30732,
   "isGpuEnabled": false,
   "isInternetEnabled": true,
   "language": "python",
   "sourceType": "notebook"
  },
  "kernelspec": {
   "display_name": "Python 3 (ipykernel)",
   "language": "python",
   "name": "python3"
  },
  "language_info": {
   "codemirror_mode": {
    "name": "ipython",
    "version": 3
   },
   "file_extension": ".py",
   "mimetype": "text/x-python",
   "name": "python",
   "nbconvert_exporter": "python",
   "pygments_lexer": "ipython3",
   "version": "3.11.5"
  },
  "papermill": {
   "default_parameters": {},
   "duration": 6.841111,
   "end_time": "2024-07-26T07:49:30.333199",
   "environment_variables": {},
   "exception": null,
   "input_path": "__notebook__.ipynb",
   "output_path": "__notebook__.ipynb",
   "parameters": {},
   "start_time": "2024-07-26T07:49:23.492088",
   "version": "2.5.0"
  }
 },
 "nbformat": 4,
 "nbformat_minor": 5
}
